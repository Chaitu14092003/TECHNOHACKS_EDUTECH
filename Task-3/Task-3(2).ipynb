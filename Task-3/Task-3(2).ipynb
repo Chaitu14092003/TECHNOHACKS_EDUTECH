{
 "cells": [
  {
   "cell_type": "markdown",
   "id": "fda0d675-c82f-4c8a-9999-f78a663af2b4",
   "metadata": {},
   "source": [
    "# NAME- CHAITANYA REDDY BORRA"
   ]
  },
  {
   "cell_type": "markdown",
   "id": "91fe6541-89db-4986-9fed-65b1411f7308",
   "metadata": {},
   "source": [
    "## TASK-3"
   ]
  },
  {
   "cell_type": "markdown",
   "id": "9f6c0a9b-41ad-48a7-8c15-81f1430cd917",
   "metadata": {},
   "source": [
    "Data Visualization using Histogram"
   ]
  },
  {
   "cell_type": "markdown",
   "id": "b1186da5-2480-4a32-a78b-d09d2e9494a8",
   "metadata": {},
   "source": [
    "### Importing Python Libraries"
   ]
  },
  {
   "cell_type": "code",
   "execution_count": 1,
   "id": "2204cb4b-0aef-400e-ae43-7fda19eed93d",
   "metadata": {},
   "outputs": [],
   "source": [
    "import pandas as pd\n",
    "import matplotlib.pyplot as plt\n",
    "import seaborn as sns\n",
    "from scipy import stats\n",
    "import numpy as np"
   ]
  },
  {
   "cell_type": "markdown",
   "id": "3818caaa-9416-42c7-9a39-ce26bf4c7e73",
   "metadata": {},
   "source": [
    "### Importing the datset"
   ]
  },
  {
   "cell_type": "code",
   "execution_count": 2,
   "id": "e08b08f2-c8c2-4d81-abc3-fbef85c8a1be",
   "metadata": {},
   "outputs": [
    {
     "data": {
      "text/html": [
       "<div>\n",
       "<style scoped>\n",
       "    .dataframe tbody tr th:only-of-type {\n",
       "        vertical-align: middle;\n",
       "    }\n",
       "\n",
       "    .dataframe tbody tr th {\n",
       "        vertical-align: top;\n",
       "    }\n",
       "\n",
       "    .dataframe thead th {\n",
       "        text-align: right;\n",
       "    }\n",
       "</style>\n",
       "<table border=\"1\" class=\"dataframe\">\n",
       "  <thead>\n",
       "    <tr style=\"text-align: right;\">\n",
       "      <th></th>\n",
       "      <th>Id</th>\n",
       "      <th>SepalLengthCm</th>\n",
       "      <th>SepalWidthCm</th>\n",
       "      <th>PetalLengthCm</th>\n",
       "      <th>PetalWidthCm</th>\n",
       "      <th>Species</th>\n",
       "    </tr>\n",
       "  </thead>\n",
       "  <tbody>\n",
       "    <tr>\n",
       "      <th>0</th>\n",
       "      <td>1</td>\n",
       "      <td>5.1</td>\n",
       "      <td>3.5</td>\n",
       "      <td>1.4</td>\n",
       "      <td>0.2</td>\n",
       "      <td>Iris-setosa</td>\n",
       "    </tr>\n",
       "    <tr>\n",
       "      <th>1</th>\n",
       "      <td>2</td>\n",
       "      <td>4.9</td>\n",
       "      <td>3.0</td>\n",
       "      <td>1.4</td>\n",
       "      <td>0.2</td>\n",
       "      <td>Iris-setosa</td>\n",
       "    </tr>\n",
       "    <tr>\n",
       "      <th>2</th>\n",
       "      <td>3</td>\n",
       "      <td>4.7</td>\n",
       "      <td>3.2</td>\n",
       "      <td>1.3</td>\n",
       "      <td>0.2</td>\n",
       "      <td>Iris-setosa</td>\n",
       "    </tr>\n",
       "    <tr>\n",
       "      <th>3</th>\n",
       "      <td>4</td>\n",
       "      <td>4.6</td>\n",
       "      <td>3.1</td>\n",
       "      <td>1.5</td>\n",
       "      <td>0.2</td>\n",
       "      <td>Iris-setosa</td>\n",
       "    </tr>\n",
       "    <tr>\n",
       "      <th>4</th>\n",
       "      <td>5</td>\n",
       "      <td>5.0</td>\n",
       "      <td>3.6</td>\n",
       "      <td>1.4</td>\n",
       "      <td>0.2</td>\n",
       "      <td>Iris-setosa</td>\n",
       "    </tr>\n",
       "    <tr>\n",
       "      <th>...</th>\n",
       "      <td>...</td>\n",
       "      <td>...</td>\n",
       "      <td>...</td>\n",
       "      <td>...</td>\n",
       "      <td>...</td>\n",
       "      <td>...</td>\n",
       "    </tr>\n",
       "    <tr>\n",
       "      <th>145</th>\n",
       "      <td>146</td>\n",
       "      <td>6.7</td>\n",
       "      <td>3.0</td>\n",
       "      <td>5.2</td>\n",
       "      <td>2.3</td>\n",
       "      <td>Iris-virginica</td>\n",
       "    </tr>\n",
       "    <tr>\n",
       "      <th>146</th>\n",
       "      <td>147</td>\n",
       "      <td>6.3</td>\n",
       "      <td>2.5</td>\n",
       "      <td>5.0</td>\n",
       "      <td>1.9</td>\n",
       "      <td>Iris-virginica</td>\n",
       "    </tr>\n",
       "    <tr>\n",
       "      <th>147</th>\n",
       "      <td>148</td>\n",
       "      <td>6.5</td>\n",
       "      <td>3.0</td>\n",
       "      <td>5.2</td>\n",
       "      <td>2.0</td>\n",
       "      <td>Iris-virginica</td>\n",
       "    </tr>\n",
       "    <tr>\n",
       "      <th>148</th>\n",
       "      <td>149</td>\n",
       "      <td>6.2</td>\n",
       "      <td>3.4</td>\n",
       "      <td>5.4</td>\n",
       "      <td>2.3</td>\n",
       "      <td>Iris-virginica</td>\n",
       "    </tr>\n",
       "    <tr>\n",
       "      <th>149</th>\n",
       "      <td>150</td>\n",
       "      <td>5.9</td>\n",
       "      <td>3.0</td>\n",
       "      <td>5.1</td>\n",
       "      <td>1.8</td>\n",
       "      <td>Iris-virginica</td>\n",
       "    </tr>\n",
       "  </tbody>\n",
       "</table>\n",
       "<p>150 rows × 6 columns</p>\n",
       "</div>"
      ],
      "text/plain": [
       "      Id  SepalLengthCm  SepalWidthCm  PetalLengthCm  PetalWidthCm  \\\n",
       "0      1            5.1           3.5            1.4           0.2   \n",
       "1      2            4.9           3.0            1.4           0.2   \n",
       "2      3            4.7           3.2            1.3           0.2   \n",
       "3      4            4.6           3.1            1.5           0.2   \n",
       "4      5            5.0           3.6            1.4           0.2   \n",
       "..   ...            ...           ...            ...           ...   \n",
       "145  146            6.7           3.0            5.2           2.3   \n",
       "146  147            6.3           2.5            5.0           1.9   \n",
       "147  148            6.5           3.0            5.2           2.0   \n",
       "148  149            6.2           3.4            5.4           2.3   \n",
       "149  150            5.9           3.0            5.1           1.8   \n",
       "\n",
       "            Species  \n",
       "0       Iris-setosa  \n",
       "1       Iris-setosa  \n",
       "2       Iris-setosa  \n",
       "3       Iris-setosa  \n",
       "4       Iris-setosa  \n",
       "..              ...  \n",
       "145  Iris-virginica  \n",
       "146  Iris-virginica  \n",
       "147  Iris-virginica  \n",
       "148  Iris-virginica  \n",
       "149  Iris-virginica  \n",
       "\n",
       "[150 rows x 6 columns]"
      ]
     },
     "execution_count": 2,
     "metadata": {},
     "output_type": "execute_result"
    }
   ],
   "source": [
    "df=pd.read_csv(r'T:\\CHAITANYA REDDY BORRA\\titanic\\Iris.csv')\n",
    "df"
   ]
  },
  {
   "cell_type": "markdown",
   "id": "cefdd296-20db-49ab-be59-a37dc9752951",
   "metadata": {},
   "source": [
    "### Getting the information about all columns in the DataFrame."
   ]
  },
  {
   "cell_type": "code",
   "execution_count": 3,
   "id": "dc77f23b-1f48-44c6-aeff-ba5652ff779e",
   "metadata": {},
   "outputs": [
    {
     "name": "stdout",
     "output_type": "stream",
     "text": [
      "<class 'pandas.core.frame.DataFrame'>\n",
      "RangeIndex: 150 entries, 0 to 149\n",
      "Data columns (total 6 columns):\n",
      " #   Column         Non-Null Count  Dtype  \n",
      "---  ------         --------------  -----  \n",
      " 0   Id             150 non-null    int64  \n",
      " 1   SepalLengthCm  150 non-null    float64\n",
      " 2   SepalWidthCm   150 non-null    float64\n",
      " 3   PetalLengthCm  150 non-null    float64\n",
      " 4   PetalWidthCm   150 non-null    float64\n",
      " 5   Species        150 non-null    object \n",
      "dtypes: float64(4), int64(1), object(1)\n",
      "memory usage: 7.2+ KB\n"
     ]
    }
   ],
   "source": [
    "df.info()"
   ]
  },
  {
   "cell_type": "code",
   "execution_count": 4,
   "id": "ff982fab-19cb-47c3-9c3e-e54301a95ece",
   "metadata": {},
   "outputs": [
    {
     "data": {
      "text/plain": [
       "Id                 int64\n",
       "SepalLengthCm    float64\n",
       "SepalWidthCm     float64\n",
       "PetalLengthCm    float64\n",
       "PetalWidthCm     float64\n",
       "Species           object\n",
       "dtype: object"
      ]
     },
     "execution_count": 4,
     "metadata": {},
     "output_type": "execute_result"
    }
   ],
   "source": [
    "df.dtypes"
   ]
  },
  {
   "cell_type": "code",
   "execution_count": 5,
   "id": "277aec9f-49cd-41d7-8c45-2e7596a04547",
   "metadata": {},
   "outputs": [
    {
     "data": {
      "text/plain": [
       "array(['Iris-setosa', 'Iris-versicolor', 'Iris-virginica'], dtype=object)"
      ]
     },
     "execution_count": 5,
     "metadata": {},
     "output_type": "execute_result"
    }
   ],
   "source": [
    "df['Species'].unique()"
   ]
  },
  {
   "cell_type": "markdown",
   "id": "affaa2d1-43c0-4a60-befe-185d7835683f",
   "metadata": {},
   "source": [
    "### Checking for missing values in each column of the DataFrame."
   ]
  },
  {
   "cell_type": "code",
   "execution_count": 6,
   "id": "fac52017-d1d8-46be-9a75-19307b08e131",
   "metadata": {},
   "outputs": [
    {
     "data": {
      "text/plain": [
       "Id               0\n",
       "SepalLengthCm    0\n",
       "SepalWidthCm     0\n",
       "PetalLengthCm    0\n",
       "PetalWidthCm     0\n",
       "Species          0\n",
       "dtype: int64"
      ]
     },
     "execution_count": 6,
     "metadata": {},
     "output_type": "execute_result"
    }
   ],
   "source": [
    "df.isnull().sum()"
   ]
  },
  {
   "cell_type": "markdown",
   "id": "bfb208b4-5308-4438-98f4-21634dbc0964",
   "metadata": {},
   "source": [
    "There is no missing values in the DataFrame."
   ]
  },
  {
   "cell_type": "markdown",
   "id": "f8c680fc-a234-471e-8632-5fc18d909c52",
   "metadata": {},
   "source": [
    "### Checking for Outliers in the Columns Of DataFrame.\n",
    "#### Checking Of Outliers in the\"SepalLengthCm\" Column Of DataFrame."
   ]
  },
  {
   "cell_type": "code",
   "execution_count": 7,
   "id": "345e2ef3-566b-4b80-ad41-cc855ceefb9e",
   "metadata": {},
   "outputs": [
    {
     "data": {
      "text/plain": [
       "<Axes: xlabel='SepalLengthCm'>"
      ]
     },
     "execution_count": 7,
     "metadata": {},
     "output_type": "execute_result"
    },
    {
     "data": {
      "image/png": "[encoded data removed]",
      "text/plain": [
       "<Figure size 640x480 with 1 Axes>"
      ]
     },
     "metadata": {},
     "output_type": "display_data"
    }
   ],
   "source": [
    "sns.boxplot(x=df[\"SepalLengthCm\"],showfliers=True)"
   ]
  },
  {
   "cell_type": "markdown",
   "id": "649e748a-c522-4a4a-a59e-aeb4abcfdac2",
   "metadata": {},
   "source": [
    "Note- There is no outlier present in the \"SepallengthCm\" column of DataFrame."
   ]
  },
  {
   "cell_type": "markdown",
   "id": "c901ee17-c4f4-4511-a34b-25647bea2982",
   "metadata": {},
   "source": [
    "### Checking Of Outliers in the\"SepalWidthCm\" Column Of DataFrame."
   ]
  },
  {
   "cell_type": "code",
   "execution_count": 8,
   "id": "b99ef8b2-2e41-432a-abb2-f69731079449",
   "metadata": {},
   "outputs": [
    {
     "data": {
      "text/plain": [
       "<Axes: xlabel='SepalWidthCm'>"
      ]
     },
     "execution_count": 8,
     "metadata": {},
     "output_type": "execute_result"
    },
    {
     "data": {
      "image/png": "[encoded data removed]",
      "text/plain": [
       "<Figure size 640x480 with 1 Axes>"
      ]
     },
     "metadata": {},
     "output_type": "display_data"
    }
   ],
   "source": [
    "sns.boxplot(x=df[\"SepalWidthCm\"],showfliers=True)"
   ]
  },
  {
   "cell_type": "markdown",
   "id": "c2d697f9-083b-4a86-b93b-67082144170d",
   "metadata": {},
   "source": [
    "Note- There is some outlier present in the \"SepallWidthCm\" column of DataFrame."
   ]
  },
  {
   "cell_type": "markdown",
   "id": "44056bc2-84ce-4fa1-964c-6cce1c0977ac",
   "metadata": {},
   "source": [
    "### Checking Of Outliers in the\"PetalWidthCm\" Column Of DataFrame."
   ]
  },
  {
   "cell_type": "code",
   "execution_count": 9,
   "id": "7f4dfaf2-9340-4ab2-8a45-04fe3144b2af",
   "metadata": {},
   "outputs": [
    {
     "data": {
      "text/plain": [
       "<Axes: xlabel='PetalWidthCm'>"
      ]
     },
     "execution_count": 9,
     "metadata": {},
     "output_type": "execute_result"
    },
    {
     "data": {
      "image/png": "[encoded data removed]",
      "text/plain": [
       "<Figure size 640x480 with 1 Axes>"
      ]
     },
     "metadata": {},
     "output_type": "display_data"
    }
   ],
   "source": [
    "sns.boxplot(x=df[\"PetalWidthCm\"],showfliers=True)"
   ]
  },
  {
   "cell_type": "markdown",
   "id": "0e04f487-cf6c-4870-9710-f8b112238fc8",
   "metadata": {},
   "source": [
    "Note- There is no outlier present in the \"PetalWidthCm\" column of DataFrame."
   ]
  },
  {
   "cell_type": "markdown",
   "id": "b33eed4b-9982-4328-8246-88a07ab1a0a3",
   "metadata": {},
   "source": [
    "### Checking Of Outliers in the\"PetalLengththCm\" Column Of DataFrame."
   ]
  },
  {
   "cell_type": "code",
   "execution_count": 10,
   "id": "94d30476-3d06-4aa7-bf7b-aff9d9f74ee1",
   "metadata": {},
   "outputs": [
    {
     "data": {
      "text/plain": [
       "<Axes: xlabel='PetalLengthCm'>"
      ]
     },
     "execution_count": 10,
     "metadata": {},
     "output_type": "execute_result"
    },
    {
     "data": {
      "image/png": "[encoded data removed]",
      "text/plain": [
       "<Figure size 640x480 with 1 Axes>"
      ]
     },
     "metadata": {},
     "output_type": "display_data"
    }
   ],
   "source": [
    "sns.boxplot(x=df[\"PetalLengthCm\"],showfliers=True)"
   ]
  },
  {
   "cell_type": "markdown",
   "id": "e044328d-c7b6-4df7-94ee-cd3436a01eb7",
   "metadata": {},
   "source": [
    "Note- There is no outlier present in the \"PetalLengthCm\" column of DataFrame."
   ]
  },
  {
   "cell_type": "markdown",
   "id": "98b76ab5-db26-44e9-82e1-91c561689e0f",
   "metadata": {},
   "source": [
    "### Removing outlier present in the \"SepallWidthCm\" column of DataFrame."
   ]
  },
  {
   "cell_type": "code",
   "execution_count": 11,
   "id": "47906fe3-79c6-4518-9836-59a25e1e99f3",
   "metadata": {},
   "outputs": [],
   "source": [
    "def remove_outliers_IQR(df, SepalWidthCm, threshold=1.5):\n",
    "    q1 = df[\"SepalWidthCm\"].quantile(0.25)\n",
    "    q3 = df[\"SepalWidthCm\"].quantile(0.75)\n",
    "    iqr = q3 - q1\n",
    "    lower_bound = q1 - threshold * iqr\n",
    "    upper_bound = q3 + threshold * iqr\n",
    "    return df[(df[\"SepalWidthCm\"] >= lower_bound) & (df[\"SepalWidthCm\"] <= upper_bound)]"
   ]
  },
  {
   "cell_type": "code",
   "execution_count": 12,
   "id": "af26bbde-5a7c-4202-8a01-7eaaf482b357",
   "metadata": {},
   "outputs": [],
   "source": [
    "columns_to_check=[\"SepalWidthCm\"]\n",
    "for col in columns_to_check:\n",
    "    df =remove_outliers_IQR(df, col)"
   ]
  },
  {
   "cell_type": "code",
   "execution_count": 13,
   "id": "dca362b6-7456-4335-874c-7c5281438f3c",
   "metadata": {},
   "outputs": [
    {
     "data": {
      "text/plain": [
       "<Axes: xlabel='SepalWidthCm'>"
      ]
     },
     "execution_count": 13,
     "metadata": {},
     "output_type": "execute_result"
    },
    {
     "data": {
      "image/png": "[encoded data removed]",
      "text/plain": [
       "<Figure size 640x480 with 1 Axes>"
      ]
     },
     "metadata": {},
     "output_type": "display_data"
    }
   ],
   "source": [
    "sns.boxplot(x=df[\"SepalWidthCm\"],showfliers=True)\n"
   ]
  },
  {
   "cell_type": "markdown",
   "id": "8053f92e-cea8-4164-aee4-a219f1545f28",
   "metadata": {},
   "source": [
    "Note-Now there is no outlier present in the \"SepallWidthCm\" column of DataFrame."
   ]
  },
  {
   "cell_type": "markdown",
   "id": "91951bf6-9a7d-4e4d-baa2-07c6c791b2b6",
   "metadata": {},
   "source": [
    "# Data Visualization"
   ]
  },
  {
   "cell_type": "markdown",
   "id": "4b7dbea1-d7af-4115-bf0e-ff339c22d0cf",
   "metadata": {},
   "source": [
    "### Plotting The Count Of Species Using Bar Chart"
   ]
  },
  {
   "cell_type": "code",
   "execution_count": 14,
   "id": "83844726-1930-4310-b039-290bfcc6d1cd",
   "metadata": {},
   "outputs": [
    {
     "data": {
      "text/plain": [
       "<Axes: xlabel='Species', ylabel='count'>"
      ]
     },
     "execution_count": 14,
     "metadata": {},
     "output_type": "execute_result"
    },
    {
     "data": {
      "image/png": "[encoded data removed]",
      "text/plain": [
       "<Figure size 800x600 with 1 Axes>"
      ]
     },
     "metadata": {},
     "output_type": "display_data"
    }
   ],
   "source": [
    "plt.figure(figsize=(8,6))\n",
    "sns.countplot(x='Species',data=df, palette=['orange', 'lightblue', 'darkblue'])"
   ]
  },
  {
   "cell_type": "markdown",
   "id": "2f5739a7-7bf2-4371-9f90-c3ceb75a088a",
   "metadata": {},
   "source": [
    "### Creating a Histogram for the column SepalLengthCm\n"
   ]
  },
  {
   "cell_type": "code",
   "execution_count": 17,
   "id": "0988b5ab-bc00-4e35-9f7e-dee9448003aa",
   "metadata": {},
   "outputs": [
    {
     "data": {
      "text/plain": [
       "<Axes: >"
      ]
     },
     "execution_count": 17,
     "metadata": {},
     "output_type": "execute_result"
    },
    {
     "data": {
      "image/png": "[encoded data removed]",
      "text/plain": [
       "<Figure size 640x480 with 1 Axes>"
      ]
     },
     "metadata": {},
     "output_type": "display_data"
    }
   ],
   "source": [
    "df['SepalLengthCm'].hist(color='green')"
   ]
  },
  {
   "cell_type": "markdown",
   "id": "f7d2315e-07db-44b9-97c7-ae00f5e6ca06",
   "metadata": {},
   "source": [
    "### Creating a Histogram for the column SepalWidthCm"
   ]
  },
  {
   "cell_type": "code",
   "execution_count": 16,
   "id": "75a6dd7b-569a-4048-9018-e35b5d03f407",
   "metadata": {},
   "outputs": [
    {
     "data": {
      "text/plain": [
       "<Axes: >"
      ]
     },
     "execution_count": 16,
     "metadata": {},
     "output_type": "execute_result"
    },
    {
     "data": {
      "image/png": "[encoded data removed]",
      "text/plain": [
       "<Figure size 640x480 with 1 Axes>"
      ]
     },
     "metadata": {},
     "output_type": "display_data"
    }
   ],
   "source": [
    "df['SepalWidthCm'].hist(color='blue')"
   ]
  },
  {
   "cell_type": "markdown",
   "id": "bac9c13f-d6f0-4c69-9c13-fe3f76371281",
   "metadata": {},
   "source": [
    "### Creating a Histogram for the column PetalWidthCm"
   ]
  },
  {
   "cell_type": "code",
   "execution_count": 19,
   "id": "da0dbf5b-aa04-483e-8354-14e321b35f7a",
   "metadata": {},
   "outputs": [
    {
     "data": {
      "text/plain": [
       "<Axes: >"
      ]
     },
     "execution_count": 19,
     "metadata": {},
     "output_type": "execute_result"
    },
    {
     "data": {
      "image/png": "[encoded data removed]",
      "text/plain": [
       "<Figure size 640x480 with 1 Axes>"
      ]
     },
     "metadata": {},
     "output_type": "display_data"
    }
   ],
   "source": [
    "df['PetalWidthCm'].hist(color='pink')"
   ]
  },
  {
   "cell_type": "markdown",
   "id": "4b32aca1-8426-4ab9-a2ec-8958414fdb00",
   "metadata": {},
   "source": [
    "### Creating a Histogram for the column PetalLengthCm"
   ]
  },
  {
   "cell_type": "code",
   "execution_count": 22,
   "id": "4c69a996-0cd9-4697-9383-dd5a6d59ad8f",
   "metadata": {},
   "outputs": [
    {
     "data": {
      "text/plain": [
       "<Axes: >"
      ]
     },
     "execution_count": 22,
     "metadata": {},
     "output_type": "execute_result"
    },
    {
     "data": {
      "image/png": "[encoded data removed]",
      "text/plain": [
       "<Figure size 640x480 with 1 Axes>"
      ]
     },
     "metadata": {},
     "output_type": "display_data"
    }
   ],
   "source": [
    "df['PetalLengthCm'].hist(color='red')"
   ]
  },
  {
   "cell_type": "markdown",
   "id": "768d3b25-a3b0-479f-aad1-4e28b2882709",
   "metadata": {},
   "source": [
    "### Creating a bar chart of the mean of each column in the DataFrame, grouped by the Species column"
   ]
  },
  {
   "cell_type": "code",
   "execution_count": 25,
   "id": "991dcdfa-75a4-4dc8-9441-45c101852231",
   "metadata": {},
   "outputs": [
    {
     "data": {
      "image/png": "[encoded data removed]",
      "text/plain": [
       "<Figure size 1500x800 with 1 Axes>"
      ]
     },
     "metadata": {},
     "output_type": "display_data"
    }
   ],
   "source": [
    "df.groupby('Species').mean().plot(kind=\"bar\", figsize=(15, 8))\n",
    "plt.show()"
   ]
  }
 ],
 "metadata": {
  "kernelspec": {
   "display_name": "Python 3 (ipykernel)",
   "language": "python",
   "name": "python3"
  },
  "language_info": {
   "codemirror_mode": {
    "name": "ipython",
    "version": 3
   },
   "file_extension": ".py",
   "mimetype": "text/x-python",
   "name": "python",
   "nbconvert_exporter": "python",
   "pygments_lexer": "ipython3",
   "version": "3.11.4"
  }
 },
 "nbformat": 4,
 "nbformat_minor": 5
}
